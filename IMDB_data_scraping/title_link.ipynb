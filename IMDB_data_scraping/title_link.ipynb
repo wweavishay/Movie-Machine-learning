{
 "cells": [
  {
   "cell_type": "code",
   "execution_count": 1,
   "metadata": {},
   "outputs": [
    {
     "name": "stdout",
     "output_type": "stream",
     "text": [
      "OK\n"
     ]
    }
   ],
   "source": [
    "import requests\n",
    "import time\n",
    "from bs4 import BeautifulSoup\n",
    "import pandas as pd\n",
    "import re\n",
    "import os\n",
    "\n",
    "title_links = []\n",
    "\n",
    "def get_url(url):\n",
    "    # Using try except to avoid crawl stop\n",
    "    try:\n",
    "        # Get the url to local \n",
    "        html = requests.get(url)\n",
    "        # Parse html test\n",
    "        html_soup = BeautifulSoup(html.text, 'html.parser')\n",
    "        # Get the position of movies\n",
    "        movie_containers = html_soup.find_all('div', class_ = 'lister-item mode-advanced')\n",
    "\n",
    "        count=0\n",
    "        for container in movie_containers:\n",
    "            # The title and link of movie\n",
    "            name = container.h3.a.text\n",
    "            name_link = container.find('a')['href']\n",
    "            title_link = 'https://www.imdb.com' + str(name_link)\n",
    "            title_links.append(title_link)\n",
    "    except:\n",
    "        print(\"There may be some problems\")\n",
    "    \n",
    "    df = pd.DataFrame({'title_link':title_links})\n",
    "    return(df)\n",
    "\n",
    "def main(base_url):\n",
    "    url_list = []\n",
    "    # List all url should be crawled\n",
    "    for i in range(2008,2019):\n",
    "        url_list.append(base_url + str(i) + ',' + str(i) + '&title_type=feature')\n",
    "\n",
    "    # Run functions and adding multiple df into one csv\n",
    "    for url in url_list:\n",
    "        df = get_url(url)\n",
    "        df.to_csv(\"title_link.csv\", sep='\\t', encoding='utf-8',mode='a')\n",
    "    print('OK')\n",
    "    \n",
    "base_url = 'https://www.imdb.com/search/title?count=100&release_date='\n",
    "\n",
    "if __name__ == '__main__':\n",
    "    main(base_url)"
   ]
  },
  {
   "cell_type": "code",
   "execution_count": null,
   "metadata": {},
   "outputs": [],
   "source": []
  }
 ],
 "metadata": {
  "kernelspec": {
   "display_name": "Python 3",
   "language": "python",
   "name": "python3"
  },
  "language_info": {
   "codemirror_mode": {
    "name": "ipython",
    "version": 3
   },
   "file_extension": ".py",
   "mimetype": "text/x-python",
   "name": "python",
   "nbconvert_exporter": "python",
   "pygments_lexer": "ipython3",
   "version": "3.7.1"
  }
 },
 "nbformat": 4,
 "nbformat_minor": 2
}
